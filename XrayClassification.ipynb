{
  "nbformat": 4,
  "nbformat_minor": 0,
  "metadata": {
    "colab": {
      "name": "XrayClassification.ipynb",
      "provenance": [],
      "machine_shape": "hm"
    },
    "kernelspec": {
      "name": "python3",
      "display_name": "Python 3"
    },
    "accelerator": "GPU"
  },
  "cells": [
    {
      "cell_type": "code",
      "metadata": {
        "id": "oOmv9fiVXkQm",
        "colab_type": "code",
        "outputId": "fc1fa2a9-5631-4935-d77f-62c3ac2f780b",
        "colab": {
          "base_uri": "https://localhost:8080/",
          "height": 34
        }
      },
      "source": [
        "%tensorflow_version 1.x"
      ],
      "execution_count": 0,
      "outputs": [
        {
          "output_type": "stream",
          "text": [
            "TensorFlow 1.x selected.\n"
          ],
          "name": "stdout"
        }
      ]
    },
    {
      "cell_type": "code",
      "metadata": {
        "id": "ZWhh1dVEXlir",
        "colab_type": "code",
        "outputId": "1637c8e4-3acf-4188-9fc5-6444d7d35378",
        "colab": {
          "base_uri": "https://localhost:8080/",
          "height": 34
        }
      },
      "source": [
        "from keras.applications.vgg16 import VGG16\n",
        "from keras.applications.vgg19 import VGG19\n",
        "from keras.layers import Dense, GlobalMaxPool2D, Input, Flatten, Dropout\n",
        "from keras.models import Model, load_model\n",
        "from keras.preprocessing.image import ImageDataGenerator as Idg\n",
        "import pandas as pd"
      ],
      "execution_count": 0,
      "outputs": [
        {
          "output_type": "stream",
          "text": [
            "Using TensorFlow backend.\n"
          ],
          "name": "stderr"
        }
      ]
    },
    {
      "cell_type": "code",
      "metadata": {
        "id": "krVRQ34GXunT",
        "colab_type": "code",
        "outputId": "0a398cbb-563f-4603-8131-054e8e3996bc",
        "colab": {
          "base_uri": "https://localhost:8080/",
          "height": 318
        }
      },
      "source": [
        "# !wget -x --load-cookies cookies.txt https://www.kaggle.com/paultimothymooney/chest-xray-pneumonia/download"
      ],
      "execution_count": 0,
      "outputs": [
        {
          "output_type": "stream",
          "text": [
            "--2020-03-31 20:02:43--  https://www.kaggle.com/paultimothymooney/chest-xray-pneumonia/download\n",
            "Resolving www.kaggle.com (www.kaggle.com)... 35.244.233.98\n",
            "Connecting to www.kaggle.com (www.kaggle.com)|35.244.233.98|:443... connected.\n",
            "HTTP request sent, awaiting response... 302 Found\n",
            "Location: https://storage.googleapis.com/kaggle-data-sets/17810/23812/bundle/archive.zip?GoogleAccessId=web-data@kaggle-161607.iam.gserviceaccount.com&Expires=1585944163&Signature=UDhq%2B14zvGsg68gl3DOgP9wvN8BycTl5uziNldmwlzM4BrUBxmm9gh6xNVRUIE3d%2BFFYApGq%2BAD0STlZXlQdYpMrEs4gDLIXvC6mZBZRKRS2cm338bfcrqMj%2FYrhPreLVd1b1B8gqV6EYwnvfcXo1ZJw4NIqDXrxRl0%2F9J7obbC5deZnRhd7UJ73H9QsWGtdPsZdi4VxQ1%2F3XfzgTKlw%2B1OA9bKHgJYqnEMXA%2F%2FHJJDy0pVdcQeOGgA2OCBlBTlLGqQRZWJUxcntnBzbx%2ByB3f6IW6WzID7999YnEAa21F%2FtfUP%2BeddTLRpwUQQKvC3pT%2FJMxHCJ0Q5V12grp2okVQ%3D%3D&response-content-disposition=attachment%3B+filename%3Dchest-xray-pneumonia.zip [following]\n",
            "--2020-03-31 20:02:43--  https://storage.googleapis.com/kaggle-data-sets/17810/23812/bundle/archive.zip?GoogleAccessId=web-data@kaggle-161607.iam.gserviceaccount.com&Expires=1585944163&Signature=UDhq%2B14zvGsg68gl3DOgP9wvN8BycTl5uziNldmwlzM4BrUBxmm9gh6xNVRUIE3d%2BFFYApGq%2BAD0STlZXlQdYpMrEs4gDLIXvC6mZBZRKRS2cm338bfcrqMj%2FYrhPreLVd1b1B8gqV6EYwnvfcXo1ZJw4NIqDXrxRl0%2F9J7obbC5deZnRhd7UJ73H9QsWGtdPsZdi4VxQ1%2F3XfzgTKlw%2B1OA9bKHgJYqnEMXA%2F%2FHJJDy0pVdcQeOGgA2OCBlBTlLGqQRZWJUxcntnBzbx%2ByB3f6IW6WzID7999YnEAa21F%2FtfUP%2BeddTLRpwUQQKvC3pT%2FJMxHCJ0Q5V12grp2okVQ%3D%3D&response-content-disposition=attachment%3B+filename%3Dchest-xray-pneumonia.zip\n",
            "Resolving storage.googleapis.com (storage.googleapis.com)... 74.125.20.128, 2607:f8b0:400e:c03::80\n",
            "Connecting to storage.googleapis.com (storage.googleapis.com)|74.125.20.128|:443... connected.\n",
            "HTTP request sent, awaiting response... 200 OK\n",
            "Length: 2463365435 (2.3G) [application/zip]\n",
            "Saving to: ‘www.kaggle.com/paultimothymooney/chest-xray-pneumonia/download’\n",
            "\n",
            "www.kaggle.com/paul 100%[===================>]   2.29G  39.6MB/s    in 37s     \n",
            "\n",
            "2020-03-31 20:03:21 (63.0 MB/s) - ‘www.kaggle.com/paultimothymooney/chest-xray-pneumonia/download’ saved [2463365435/2463365435]\n",
            "\n"
          ],
          "name": "stdout"
        }
      ]
    },
    {
      "cell_type": "code",
      "metadata": {
        "id": "Hlt0kl-bMLE3",
        "colab_type": "code",
        "colab": {}
      },
      "source": [
        "# !mv www.kaggle.com/paultimothymooney/chest-xray-pneumonia/download ."
      ],
      "execution_count": 0,
      "outputs": []
    },
    {
      "cell_type": "code",
      "metadata": {
        "id": "qnxX46fqMW4q",
        "colab_type": "code",
        "colab": {}
      },
      "source": [
        "# !unzip -q download -d ."
      ],
      "execution_count": 0,
      "outputs": []
    },
    {
      "cell_type": "code",
      "metadata": {
        "id": "iLO7eKmLZJK6",
        "colab_type": "code",
        "outputId": "0fda300d-878d-4989-e20a-6c08e6bac805",
        "colab": {
          "base_uri": "https://localhost:8080/",
          "height": 1000
        }
      },
      "source": [
        "# New Model Using VGG16\n",
        "imsize = (150,150)\n",
        "inp = Input(shape=(*imsize,3))\n",
        "mod = VGG16(include_top =False, input_tensor=inp, weights='imagenet')\n",
        "mod.trainable=False\n",
        "mod = GlobalMaxPool2D()(mod.output)\n",
        "\n",
        "mod = Dense(150, activation='relu')(mod)\n",
        "mod = Dropout(0.2)(mod)\n",
        "mod = Dense(100, activation='relu')(mod)\n",
        "mod = Dense(1, activation='sigmoid')(mod)\n",
        "mod = Model(inputs=inp, outputs=mod)\n",
        "\n",
        "# for layer in mod.layers[:-4]:\n",
        "#   layer.trainable = False\n",
        "\n",
        "mod.summary()"
      ],
      "execution_count": 0,
      "outputs": [
        {
          "output_type": "stream",
          "text": [
            "Model: \"model_6\"\n",
            "_________________________________________________________________\n",
            "Layer (type)                 Output Shape              Param #   \n",
            "=================================================================\n",
            "input_6 (InputLayer)         (None, 150, 150, 3)       0         \n",
            "_________________________________________________________________\n",
            "block1_conv1 (Conv2D)        (None, 150, 150, 64)      1792      \n",
            "_________________________________________________________________\n",
            "block1_conv2 (Conv2D)        (None, 150, 150, 64)      36928     \n",
            "_________________________________________________________________\n",
            "block1_pool (MaxPooling2D)   (None, 75, 75, 64)        0         \n",
            "_________________________________________________________________\n",
            "block2_conv1 (Conv2D)        (None, 75, 75, 128)       73856     \n",
            "_________________________________________________________________\n",
            "block2_conv2 (Conv2D)        (None, 75, 75, 128)       147584    \n",
            "_________________________________________________________________\n",
            "block2_pool (MaxPooling2D)   (None, 37, 37, 128)       0         \n",
            "_________________________________________________________________\n",
            "block3_conv1 (Conv2D)        (None, 37, 37, 256)       295168    \n",
            "_________________________________________________________________\n",
            "block3_conv2 (Conv2D)        (None, 37, 37, 256)       590080    \n",
            "_________________________________________________________________\n",
            "block3_conv3 (Conv2D)        (None, 37, 37, 256)       590080    \n",
            "_________________________________________________________________\n",
            "block3_pool (MaxPooling2D)   (None, 18, 18, 256)       0         \n",
            "_________________________________________________________________\n",
            "block4_conv1 (Conv2D)        (None, 18, 18, 512)       1180160   \n",
            "_________________________________________________________________\n",
            "block4_conv2 (Conv2D)        (None, 18, 18, 512)       2359808   \n",
            "_________________________________________________________________\n",
            "block4_conv3 (Conv2D)        (None, 18, 18, 512)       2359808   \n",
            "_________________________________________________________________\n",
            "block4_pool (MaxPooling2D)   (None, 9, 9, 512)         0         \n",
            "_________________________________________________________________\n",
            "block5_conv1 (Conv2D)        (None, 9, 9, 512)         2359808   \n",
            "_________________________________________________________________\n",
            "block5_conv2 (Conv2D)        (None, 9, 9, 512)         2359808   \n",
            "_________________________________________________________________\n",
            "block5_conv3 (Conv2D)        (None, 9, 9, 512)         2359808   \n",
            "_________________________________________________________________\n",
            "block5_pool (MaxPooling2D)   (None, 4, 4, 512)         0         \n",
            "_________________________________________________________________\n",
            "global_max_pooling2d_6 (Glob (None, 512)               0         \n",
            "_________________________________________________________________\n",
            "dense_16 (Dense)             (None, 150)               76950     \n",
            "_________________________________________________________________\n",
            "dropout_6 (Dropout)          (None, 150)               0         \n",
            "_________________________________________________________________\n",
            "dense_17 (Dense)             (None, 100)               15100     \n",
            "_________________________________________________________________\n",
            "dense_18 (Dense)             (None, 1)                 101       \n",
            "=================================================================\n",
            "Total params: 14,806,839\n",
            "Trainable params: 14,806,839\n",
            "Non-trainable params: 0\n",
            "_________________________________________________________________\n"
          ],
          "name": "stdout"
        }
      ]
    },
    {
      "cell_type": "code",
      "metadata": {
        "id": "pX52TdU-ZKFk",
        "colab_type": "code",
        "colab": {}
      },
      "source": [
        "import os\n",
        "import numpy as np\n",
        "from keras.preprocessing.image import ImageDataGenerator as Idg\n",
        "from keras.callbacks import EarlyStopping\n",
        "from matplotlib import pyplot as plt\n",
        "import cv2\n",
        "from sklearn.model_selection import train_test_split as tts\n",
        "from sklearn.utils import shuffle\n",
        "import random\n",
        "import seaborn as sns\n",
        "from keras import backend as K"
      ],
      "execution_count": 0,
      "outputs": []
    },
    {
      "cell_type": "code",
      "metadata": {
        "id": "KXbEne1jZOkW",
        "colab_type": "code",
        "colab": {}
      },
      "source": [
        "trainpath = 'chest_xray/train/'\n",
        "testpath = 'chest_xray/test/'\n",
        "valpath = 'chest_xray/val/'"
      ],
      "execution_count": 0,
      "outputs": []
    },
    {
      "cell_type": "code",
      "metadata": {
        "id": "pK44zdCrZTW5",
        "colab_type": "code",
        "outputId": "d193d80e-8121-41a1-c59a-e678e115e13f",
        "colab": {
          "base_uri": "https://localhost:8080/",
          "height": 52
        }
      },
      "source": [
        "# List of file names\n",
        "trNormalList = os.listdir(trainpath+'NORMAL')\n",
        "trPneList = os.listdir(trainpath+'PNEUMONIA')\n",
        "print((len(trNormalList),len(trPneList)))\n",
        "tsNormalList = os.listdir(testpath+'NORMAL')\n",
        "tsPneList = os.listdir(testpath+'PNEUMONIA')\n",
        "print((len(tsNormalList),len(tsPneList)))"
      ],
      "execution_count": 0,
      "outputs": [
        {
          "output_type": "stream",
          "text": [
            "(1341, 3875)\n",
            "(234, 390)\n"
          ],
          "name": "stdout"
        }
      ]
    },
    {
      "cell_type": "code",
      "metadata": {
        "id": "_ExZh8dpZVLe",
        "colab_type": "code",
        "outputId": "9b7e46df-406b-43b0-ce3b-20fb9733f5c0",
        "colab": {
          "base_uri": "https://localhost:8080/",
          "height": 34
        }
      },
      "source": [
        "y_tr = np.array([0 for i in range(len(trNormalList))]+[1 for i in range(len(trPneList))])\n",
        "y_tr = y_tr.reshape(y_tr.shape[0],1)\n",
        "\n",
        "\n",
        "y_ts = np.array([0 for i in range(len(tsNormalList))]+[1 for i in range(len(tsPneList))])\n",
        "y_ts = y_ts.reshape(y_ts.shape[0],1)\n",
        "y_tr.shape,y_ts.shape"
      ],
      "execution_count": 0,
      "outputs": [
        {
          "output_type": "execute_result",
          "data": {
            "text/plain": [
              "((5216, 1), (624, 1))"
            ]
          },
          "metadata": {
            "tags": []
          },
          "execution_count": 31
        }
      ]
    },
    {
      "cell_type": "code",
      "metadata": {
        "id": "XWCmj0t1aDxp",
        "colab_type": "code",
        "outputId": "31e37ac2-a2f1-4fb6-b7fd-d992db1fa20f",
        "colab": {
          "base_uri": "https://localhost:8080/",
          "height": 34
        }
      },
      "source": [
        "X_tr = ['NORMAL/'+ i for i in trNormalList] + ['PNEUMONIA/'+i for i in trPneList]\n",
        "X_ts = ['NORMAL/'+ i for i in tsNormalList] + ['PNEUMONIA/'+i for i in tsPneList]\n",
        "len(X_tr), len(X_ts)"
      ],
      "execution_count": 0,
      "outputs": [
        {
          "output_type": "execute_result",
          "data": {
            "text/plain": [
              "(5216, 624)"
            ]
          },
          "metadata": {
            "tags": []
          },
          "execution_count": 32
        }
      ]
    },
    {
      "cell_type": "code",
      "metadata": {
        "id": "UrPqg72GaNZ2",
        "colab_type": "code",
        "outputId": "30db42a3-0c27-444e-bfce-c859f531ba88",
        "colab": {
          "base_uri": "https://localhost:8080/",
          "height": 34
        }
      },
      "source": [
        "X_train , y_train = shuffle(X_tr, y_tr, random_state=42)\n",
        "X_test, y_test = X_ts, y_ts\n",
        "len(X_train), y_train.shape, len(X_test), y_test.shape"
      ],
      "execution_count": 0,
      "outputs": [
        {
          "output_type": "execute_result",
          "data": {
            "text/plain": [
              "(5216, (5216, 1), 624, (624, 1))"
            ]
          },
          "metadata": {
            "tags": []
          },
          "execution_count": 33
        }
      ]
    },
    {
      "cell_type": "code",
      "metadata": {
        "id": "br40eBqobiHT",
        "colab_type": "code",
        "colab": {}
      },
      "source": [
        "def getImg(path):\n",
        "  img = plt.imread(path)\n",
        "  if img.shape[-1]!=3:\n",
        "    img = cv2.cvtColor(img,cv2.COLOR_GRAY2RGB)\n",
        "  return cv2.resize(img,imsize,interpolation=cv2.INTER_CUBIC)/255"
      ],
      "execution_count": 0,
      "outputs": []
    },
    {
      "cell_type": "code",
      "metadata": {
        "id": "edtc57jKbney",
        "colab_type": "code",
        "outputId": "ea129935-c696-41f9-bd58-b0b027b61275",
        "colab": {
          "base_uri": "https://localhost:8080/",
          "height": 286
        }
      },
      "source": [
        "i = random.randint(0,len(y_train)-1)\n",
        "plt.imshow(getImg(trainpath+X_train[i]))\n",
        "getImg(trainpath+X_train[i]).shape"
      ],
      "execution_count": 0,
      "outputs": [
        {
          "output_type": "execute_result",
          "data": {
            "text/plain": [
              "(150, 150, 3)"
            ]
          },
          "metadata": {
            "tags": []
          },
          "execution_count": 35
        },
        {
          "output_type": "display_data",
          "data": {
            "image/png": "[encoded data removed]",
            "text/plain": [
              "<Figure size 432x288 with 1 Axes>"
            ]
          },
          "metadata": {
            "tags": []
          }
        }
      ]
    },
    {
      "cell_type": "code",
      "metadata": {
        "id": "IFBpHhtCcS-v",
        "colab_type": "code",
        "outputId": "6d266f30-8ed3-4716-c8a0-7f5f76ad67d7",
        "colab": {
          "base_uri": "https://localhost:8080/",
          "height": 34
        }
      },
      "source": [
        "# Getting images as numpy array\n",
        "X_train = np.array([ getImg(trainpath+X_train[i]) for i in range(len(X_train))])\n",
        "X_test = np.array([ getImg(testpath+X_test[i]) for i in range(len(X_test))])\n",
        "X_train.shape, X_test.shape"
      ],
      "execution_count": 0,
      "outputs": [
        {
          "output_type": "execute_result",
          "data": {
            "text/plain": [
              "((5216, 150, 150, 3), (624, 150, 150, 3))"
            ]
          },
          "metadata": {
            "tags": []
          },
          "execution_count": 36
        }
      ]
    },
    {
      "cell_type": "code",
      "metadata": {
        "id": "fl5HcKRo3FpN",
        "colab_type": "code",
        "colab": {}
      },
      "source": [
        "import tensorflow as tf\n"
      ],
      "execution_count": 0,
      "outputs": []
    },
    {
      "cell_type": "code",
      "metadata": {
        "id": "B3Q-2xLwcrJA",
        "colab_type": "code",
        "colab": {}
      },
      "source": [
        " # EarlyStopping to avoid overfitting\n",
        " es = EarlyStopping(monitor='val_loss', mode='min', patience=10)"
      ],
      "execution_count": 0,
      "outputs": []
    },
    {
      "cell_type": "code",
      "metadata": {
        "id": "NO6WpfBOCAWV",
        "colab_type": "code",
        "outputId": "d026205c-90da-4fe5-a91b-4b471d3890fb",
        "colab": {
          "base_uri": "https://localhost:8080/",
          "height": 34
        }
      },
      "source": [
        "from sklearn.utils import class_weight\n",
        "class_weights = class_weight.compute_class_weight('balanced', np.array([0,1]), y_train.reshape(y_train.shape[0],))\n",
        "class_weights"
      ],
      "execution_count": 0,
      "outputs": [
        {
          "output_type": "execute_result",
          "data": {
            "text/plain": [
              "array([1.9448173 , 0.67303226])"
            ]
          },
          "metadata": {
            "tags": []
          },
          "execution_count": 39
        }
      ]
    },
    {
      "cell_type": "code",
      "metadata": {
        "id": "uPF6SvbZmniC",
        "colab_type": "code",
        "outputId": "ffd2a74d-136f-4b17-fd5a-835df3806dcb",
        "colab": {
          "base_uri": "https://localhost:8080/",
          "height": 142
        }
      },
      "source": [
        "#Training the model\n",
        "mod.compile(optimizer='adam',\n",
        "              loss='binary_crossentropy',\n",
        "              metrics=['accuracy'])\n",
        "mod.fit(X_train, y_train, batch_size=32, epochs=2, validation_data=(X_test,y_test), callbacks=[es], class_weight={0:2.8,1:1})"
      ],
      "execution_count": 0,
      "outputs": [
        {
          "output_type": "stream",
          "text": [
            "Train on 5216 samples, validate on 624 samples\n",
            "Epoch 1/2\n",
            "5216/5216 [==============================] - 23s 4ms/step - loss: 0.8846 - acc: 0.6979 - val_loss: 0.6002 - val_acc: 0.7468\n",
            "Epoch 2/2\n",
            "5216/5216 [==============================] - 21s 4ms/step - loss: 0.4098 - acc: 0.8878 - val_loss: 0.3739 - val_acc: 0.8526\n"
          ],
          "name": "stdout"
        },
        {
          "output_type": "execute_result",
          "data": {
            "text/plain": [
              "<keras.callbacks.History at 0x7fed62f79c50>"
            ]
          },
          "metadata": {
            "tags": []
          },
          "execution_count": 44
        }
      ]
    },
    {
      "cell_type": "code",
      "metadata": {
        "id": "bqBKkw29sFRT",
        "colab_type": "code",
        "outputId": "1859ace9-7d7c-488e-e2ee-6499d91947dc",
        "colab": {
          "base_uri": "https://localhost:8080/",
          "height": 52
        }
      },
      "source": [
        "mod.evaluate(X_test,y_test)"
      ],
      "execution_count": 0,
      "outputs": [
        {
          "output_type": "stream",
          "text": [
            "624/624 [==============================] - 1s 1ms/step\n"
          ],
          "name": "stdout"
        },
        {
          "output_type": "execute_result",
          "data": {
            "text/plain": [
              "[0.3739177290445719, 0.8525641025641025]"
            ]
          },
          "metadata": {
            "tags": []
          },
          "execution_count": 45
        }
      ]
    },
    {
      "cell_type": "code",
      "metadata": {
        "id": "jWwtS26YE6Lq",
        "colab_type": "code",
        "outputId": "ff950332-259f-4982-9930-6f2d2f4bf368",
        "colab": {
          "base_uri": "https://localhost:8080/",
          "height": 34
        }
      },
      "source": [
        "valNormalList = os.listdir(valpath+'NORMAL')\n",
        "valPneList = os.listdir(valpath+'PNEUMONIA')\n",
        "print((len(valNormalList),len(valPneList)))"
      ],
      "execution_count": 0,
      "outputs": [
        {
          "output_type": "stream",
          "text": [
            "(8, 8)\n"
          ],
          "name": "stdout"
        }
      ]
    },
    {
      "cell_type": "code",
      "metadata": {
        "id": "7vuaBs-cFT59",
        "colab_type": "code",
        "colab": {}
      },
      "source": [
        "# mod.save('drive/My Drive/pnemodel.h5')"
      ],
      "execution_count": 0,
      "outputs": []
    },
    {
      "cell_type": "code",
      "metadata": {
        "id": "dy_YAAa4GlQj",
        "colab_type": "code",
        "colab": {}
      },
      "source": [
        "pred = mod.predict(X_test)\n"
      ],
      "execution_count": 0,
      "outputs": []
    },
    {
      "cell_type": "code",
      "metadata": {
        "id": "W2LkmoGKHqyc",
        "colab_type": "code",
        "colab": {}
      },
      "source": [
        "pred_ = pred>0.5"
      ],
      "execution_count": 0,
      "outputs": []
    },
    {
      "cell_type": "code",
      "metadata": {
        "id": "nYDdJDxwGpWU",
        "colab_type": "code",
        "colab": {}
      },
      "source": [
        "from sklearn.metrics import confusion_matrix as cm\n",
        "from sklearn.metrics import classification_report as cr"
      ],
      "execution_count": 0,
      "outputs": []
    },
    {
      "cell_type": "code",
      "metadata": {
        "id": "Qi7XXubtI_8c",
        "colab_type": "code",
        "outputId": "a1a159f4-a1e6-4ba1-e774-d21b2c21a788",
        "colab": {
          "base_uri": "https://localhost:8080/",
          "height": 175
        }
      },
      "source": [
        "print(cr(y_test, pred_))"
      ],
      "execution_count": 0,
      "outputs": [
        {
          "output_type": "stream",
          "text": [
            "              precision    recall  f1-score   support\n",
            "\n",
            "           0       0.81      0.79      0.80       234\n",
            "           1       0.88      0.89      0.88       390\n",
            "\n",
            "    accuracy                           0.85       624\n",
            "   macro avg       0.84      0.84      0.84       624\n",
            "weighted avg       0.85      0.85      0.85       624\n",
            "\n"
          ],
          "name": "stdout"
        }
      ]
    },
    {
      "cell_type": "code",
      "metadata": {
        "id": "3im4fQwRG0YF",
        "colab_type": "code",
        "outputId": "c6093139-c109-4651-94e4-00d5ad6b92ef",
        "colab": {
          "base_uri": "https://localhost:8080/",
          "height": 282
        }
      },
      "source": [
        "pred_ = pred>0.5\n",
        "sns.heatmap(cm(y_test, pred_),annot =True)"
      ],
      "execution_count": 0,
      "outputs": [
        {
          "output_type": "execute_result",
          "data": {
            "text/plain": [
              "<matplotlib.axes._subplots.AxesSubplot at 0x7fed62a70ef0>"
            ]
          },
          "metadata": {
            "tags": []
          },
          "execution_count": 50
        },
        {
          "output_type": "display_data",
          "data": {
            "image/png": "[encoded data removed]",
            "text/plain": [
              "<Figure size 432x288 with 2 Axes>"
            ]
          },
          "metadata": {
            "tags": []
          }
        }
      ]
    },
    {
      "cell_type": "code",
      "metadata": {
        "id": "pBplOlR0J29D",
        "colab_type": "code",
        "outputId": "d1f96c3c-5739-409f-ceff-fe7b36f358cb",
        "colab": {
          "base_uri": "https://localhost:8080/",
          "height": 52
        }
      },
      "source": [
        "model = load_model('pnemodel.h5')\n",
        "model.evaluate(X_test, y_test)"
      ],
      "execution_count": 0,
      "outputs": [
        {
          "output_type": "stream",
          "text": [
            "624/624 [==============================] - 3s 4ms/step\n"
          ],
          "name": "stdout"
        },
        {
          "output_type": "execute_result",
          "data": {
            "text/plain": [
              "[1.0235163844071138, 0.8189102564102564]"
            ]
          },
          "metadata": {
            "tags": []
          },
          "execution_count": 105
        }
      ]
    },
    {
      "cell_type": "code",
      "metadata": {
        "id": "h-VJl6lfKyzN",
        "colab_type": "code",
        "outputId": "83ff133d-3356-4c13-f575-5bb5c9f25f09",
        "colab": {
          "base_uri": "https://localhost:8080/",
          "height": 185
        }
      },
      "source": [
        "del X_test\n",
        "del X_train"
      ],
      "execution_count": 0,
      "outputs": [
        {
          "output_type": "error",
          "ename": "NameError",
          "evalue": "ignored",
          "traceback": [
            "\u001b[0;31m---------------------------------------------------------------------------\u001b[0m",
            "\u001b[0;31mNameError\u001b[0m                                 Traceback (most recent call last)",
            "\u001b[0;32m<ipython-input-54-8d2f134e2ff5>\u001b[0m in \u001b[0;36m<module>\u001b[0;34m()\u001b[0m\n\u001b[0;32m----> 1\u001b[0;31m \u001b[0;32mdel\u001b[0m \u001b[0mX_test\u001b[0m\u001b[0;34m\u001b[0m\u001b[0;34m\u001b[0m\u001b[0m\n\u001b[0m\u001b[1;32m      2\u001b[0m \u001b[0;32mdel\u001b[0m \u001b[0mX_train\u001b[0m\u001b[0;34m\u001b[0m\u001b[0;34m\u001b[0m\u001b[0m\n",
            "\u001b[0;31mNameError\u001b[0m: name 'X_test' is not defined"
          ]
        }
      ]
    },
    {
      "cell_type": "code",
      "metadata": {
        "id": "vYBSWkM5Kuk0",
        "colab_type": "code",
        "outputId": "4527b248-1fa4-4497-b04d-d91fc2660534",
        "colab": {
          "base_uri": "https://localhost:8080/",
          "height": 34
        }
      },
      "source": [
        "import gc\n",
        "collect = gc.collect()\n",
        "collect"
      ],
      "execution_count": 0,
      "outputs": [
        {
          "output_type": "execute_result",
          "data": {
            "text/plain": [
              "0"
            ]
          },
          "metadata": {
            "tags": []
          },
          "execution_count": 52
        }
      ]
    },
    {
      "cell_type": "code",
      "metadata": {
        "id": "Lkw-iFQhK_K8",
        "colab_type": "code",
        "colab": {}
      },
      "source": [
        "mod.save('pnev2.h5')"
      ],
      "execution_count": 0,
      "outputs": []
    }
  ]
}